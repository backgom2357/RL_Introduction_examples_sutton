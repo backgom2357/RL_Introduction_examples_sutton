{
 "cells": [
  {
   "cell_type": "code",
   "execution_count": 1,
   "metadata": {},
   "outputs": [],
   "source": [
    "import numpy as np\n",
    "import os\n",
    "from tqdm import tqdm_notebook\n",
    "\n",
    "np.random.seed(77)\n",
    "\n",
    "import matplotlib\n",
    "import matplotlib.pyplot as plt\n",
    "plt.rcParams['axes.labelsize'] = 14\n",
    "plt.rcParams['xtick.labelsize'] = 15\n",
    "plt.rcParams['ytick.labelsize'] = 15\n",
    "plt.rcParams[\"figure.figsize\"] = (10,4)\n",
    "\n",
    "plt.rcParams['axes.unicode_minus'] = False\n",
    "\n",
    "PROJECT_ROOT_DIR = \".\"\n",
    "CHAPTER_ID = '10_armed_testbed'\n",
    "\n",
    "def save_fig(fig_id, tight_layout=True):\n",
    "    path = os.path.join(PROJECT_ROOT_DIR, \"images\", CHAPTER_ID, fig_id + \".png\")\n",
    "    if tight_layout:\n",
    "        plt.tight_layout()\n",
    "    plt.savefig(path, format='png', dpi=300)"
   ]
  },
  {
   "cell_type": "markdown",
   "metadata": {},
   "source": [
    "# The 10-Armed Testbed"
   ]
  },
  {
   "cell_type": "code",
   "execution_count": null,
   "metadata": {},
   "outputs": [],
   "source": [
    "def sample_average(t, action, actions, epsilon = 0):\n",
    "    \n",
    "    sum_rewards = 0\n",
    "    sum_predicate = 0\n",
    "    \n",
    "    if t <= 1:\n",
    "        return 0\n",
    "   \n",
    "    else:\n",
    "        for i in range(t-1):\n",
    "            predicate = 0\n",
    "            \n",
    "            reward = get_reward(action)\n",
    "            \n",
    "            if actions[i] == action:\n",
    "                predicate = 1\n",
    "            sum_rewards += reward*predicate\n",
    "            sum_predicate += predicate\n",
    "            \n",
    "        if sum_predicate == 0:\n",
    "            return 0\n",
    "            \n",
    "        return sum_rewards/sum_predicate\n",
    "    \n",
    "def get_reward(action):\n",
    "    return np.random.normal(q_rewards[action],1)\n",
    "\n",
    "def argmax(array):\n",
    "    top_index = [0]\n",
    "    top = array[0]\n",
    "    \n",
    "    for i in range(1,len(array)):\n",
    "        if array[i] > top:\n",
    "            top_index = [i]\n",
    "            top = array[i]\n",
    "        elif array[i] == top:\n",
    "            top_index.append(i)\n",
    "        \n",
    "    np.random.shuffle(top_index)\n",
    "        \n",
    "    return top_index[0]\n",
    "\n",
    "def epsilon_greedy_action_selection(t, actions, epsilon = 0):\n",
    "\n",
    "    rand = np.random.rand(1)[0]\n",
    "\n",
    "    if t <= 0 or epsilon >= rand:            \n",
    "        return np.random.choice(10,1)[0]\n",
    "\n",
    "    else:\n",
    "        Q_t = []\n",
    "        for i in ACTION:\n",
    "            Q_t.append(sample_average(t,i, actions, epsilon))\n",
    "        return argmax(Q_t)"
   ]
  },
  {
   "cell_type": "code",
   "execution_count": null,
   "metadata": {},
   "outputs": [],
   "source": [
    "RUN = 100\n",
    "STEP = 1000\n",
    "ACTION = [i for i in range(10)]\n",
    "\n",
    "q_rewards = []\n",
    "for _ in range(10):\n",
    "    tmp = np.random.normal(0,1)\n",
    "    q_rewards.append(tmp)\n",
    "    \n",
    "optimal_action = np.argmax(q_rewards)\n",
    "\n",
    "average_greedy_reward = [0]*STEP\n",
    "e1_average_greedy_reward = [0]*STEP\n",
    "e2_average_greedy_reward = [0]*STEP\n",
    "\n",
    "greedy_optimal_action_ratio = [0]*STEP\n",
    "e1_greedy_optimal_action_ratio = [0]*STEP\n",
    "e2_greedy_optimal_action_ratio = [0]*STEP\n",
    "\n",
    "## testbed\n",
    "for t in tqdm_notebook(range(RUN)):\n",
    "    \n",
    "    ## greedy\n",
    "    greedy_actions = []\n",
    "\n",
    "    for i in range(STEP):\n",
    "        greedy_actions.append(epsilon_greedy_action_selection(i, greedy_actions))\n",
    "        if greedy_actions[i] == optimal_action:\n",
    "            greedy_optimal_action_ratio[i] += 1/RUN\n",
    "        average_greedy_reward[i] += get_reward(greedy_actions[i])/RUN\n",
    "        \n",
    "    ## e = 0.1\n",
    "    e1_greedy_actions = []\n",
    "\n",
    "    epsilon1 = 0.1\n",
    "\n",
    "    for i in range(STEP):\n",
    "        e1_greedy_actions.append(epsilon_greedy_action_selection(i, e1_greedy_actions, epsilon1))\n",
    "        if greedy_actions[i] == optimal_action:\n",
    "            e1_greedy_optimal_action_ratio[i] += 1/RUN\n",
    "        e1_average_greedy_reward[i] += get_reward(e1_greedy_actions[i])/RUN\n",
    "\n",
    "    ## e = 0.01\n",
    "    e2_greedy_actions = []\n",
    "\n",
    "    epsilon2 = 0.01\n",
    "\n",
    "    for i in range(STEP):\n",
    "        e2_greedy_actions.append(epsilon_greedy_action_selection(i, e2_greedy_actions, epsilon2))\n",
    "        if greedy_actions[i] == optimal_action:\n",
    "            e2_greedy_optimal_action_ratio[i] += 1/RUN\n",
    "        e2_average_greedy_reward[i] += get_reward(e2_greedy_actions[i])/RUN"
   ]
  },
  {
   "cell_type": "code",
   "execution_count": null,
   "metadata": {},
   "outputs": [],
   "source": [
    "plt.plot(np.arange(STEP), average_greedy_reward, 'g-', np.arange(STEP), e1_average_greedy_reward, 'b-', np.arange(STEP), e2_average_greedy_reward, 'r-')\n",
    "plt.xlabel('steps')\n",
    "plt.ylabel('average reward')\n",
    "plt.show()"
   ]
  },
  {
   "cell_type": "code",
   "execution_count": null,
   "metadata": {},
   "outputs": [],
   "source": [
    "plt.plot(np.arange(STEP), greedy_optimal_action_ratio, 'g-', np.arange(STEP), e1_greedy_optimal_action_ratio, 'b-', np.arange(STEP), e2_greedy_optimal_action_ratio, 'r-')\n",
    "plt.xlabel('steps')\n",
    "plt.ylabel('% optimal action')\n",
    "plt.show()"
   ]
  },
  {
   "cell_type": "markdown",
   "metadata": {},
   "source": [
    "Waste memory, High complexity"
   ]
  },
  {
   "cell_type": "markdown",
   "metadata": {},
   "source": [
    "# Simple Bandit algorithm"
   ]
  },
  {
   "cell_type": "code",
   "execution_count": 2,
   "metadata": {},
   "outputs": [],
   "source": [
    "def bandit(action):\n",
    "    return np.random.normal(q_rewards[action],1)\n",
    "\n",
    "def action_selection(t, q, epsilon = 0):\n",
    "\n",
    "    rand = np.random.rand(1)[0]\n",
    "\n",
    "    if t <= 0 or epsilon >= rand:            \n",
    "        return np.random.choice(NUM_OF_ACTION,1)[0]\n",
    "    else:\n",
    "        return argmax(q)\n",
    "    \n",
    "def argmax(array):\n",
    "    top_index = [0]\n",
    "    top = array[0]\n",
    "    \n",
    "    for i in range(1,len(array)):\n",
    "        if array[i] > top:\n",
    "            top_index = [i]\n",
    "            top = array[i]\n",
    "        elif array[i] == top:\n",
    "            top_index.append(i)\n",
    "        \n",
    "    np.random.shuffle(top_index)\n",
    "        \n",
    "    return top_index[0]"
   ]
  },
  {
   "cell_type": "code",
   "execution_count": 3,
   "metadata": {},
   "outputs": [
    {
     "data": {
      "application/vnd.jupyter.widget-view+json": {
       "model_id": "135803f4d8dd4e5e8d639fe5f35359ac",
       "version_major": 2,
       "version_minor": 0
      },
      "text/plain": [
       "HBox(children=(IntProgress(value=0, max=2000), HTML(value='')))"
      ]
     },
     "metadata": {},
     "output_type": "display_data"
    },
    {
     "name": "stdout",
     "output_type": "stream",
     "text": [
      "\n"
     ]
    }
   ],
   "source": [
    "## simple bandit algorithm\n",
    "\n",
    "STEP = 1000\n",
    "RUN = 2000\n",
    "NUM_OF_ACTION = 20\n",
    "\n",
    "q_rewards = []\n",
    "for _ in range(NUM_OF_ACTION):\n",
    "    tmp = np.random.normal(0,1)\n",
    "    q_rewards.append(tmp)\n",
    "    \n",
    "optimal_action = np.argmax(q_rewards)\n",
    "\n",
    "g_OPTIMAL_ACTIONS = [0]*STEP\n",
    "g_AVERAGE_REWARDS = [0]*STEP\n",
    "\n",
    "e01_OPTIMAL_ACTIONS = [0]*STEP\n",
    "e01_AVERAGE_REWARDS = [0]*STEP\n",
    "\n",
    "e001_OPTIMAL_ACTIONS = [0]*STEP\n",
    "e001_AVERAGE_REWARDS = [0]*STEP\n",
    "\n",
    "\n",
    "## 10-armed testbed with simple bandit algorithm\n",
    "for i in tqdm_notebook(range(RUN)):\n",
    "\n",
    "    # greedy\n",
    "    Q = [0]*NUM_OF_ACTION\n",
    "    N = [0]*NUM_OF_ACTION\n",
    "\n",
    "    for t in range(STEP):\n",
    "        A = action_selection(t, Q, 0)\n",
    "        R = bandit(A)\n",
    "        N[A] += 1\n",
    "        Q[A] += (1/N[A])*(R-Q[A])\n",
    "        \n",
    "        g_AVERAGE_REWARDS[t] += R/RUN\n",
    "        if A == optimal_action:\n",
    "            g_OPTIMAL_ACTIONS[t] += 1/RUN*100\n",
    "            \n",
    "    # e = 0.1\n",
    "    Q = [0]*NUM_OF_ACTION\n",
    "    N = [0]*NUM_OF_ACTION\n",
    "\n",
    "    for t in range(STEP):\n",
    "        A = action_selection(t, Q, 0.1)\n",
    "        R = bandit(A)\n",
    "        N[A] += 1\n",
    "        Q[A] += (1/N[A])*(R-Q[A])\n",
    "        \n",
    "        e01_AVERAGE_REWARDS[t] += R/RUN\n",
    "        if A == optimal_action:\n",
    "            e01_OPTIMAL_ACTIONS[t] += 1/RUN*100\n",
    "            \n",
    "    # e = 0.01\n",
    "    Q = [0]*NUM_OF_ACTION\n",
    "    N = [0]*NUM_OF_ACTION\n",
    "\n",
    "    for t in range(STEP):\n",
    "        A = action_selection(t, Q, 0.01)\n",
    "        R = bandit(A)\n",
    "        N[A] += 1\n",
    "        Q[A] += (1/N[A])*(R-Q[A])\n",
    "        \n",
    "        e001_AVERAGE_REWARDS[t] += R/RUN\n",
    "        if A == optimal_action:\n",
    "            e001_OPTIMAL_ACTIONS[t] += 1/RUN*100"
   ]
  },
  {
   "cell_type": "code",
   "execution_count": 8,
   "metadata": {
    "scrolled": true
   },
   "outputs": [
    {
     "data": {
      "image/png": "[encoded data removed]",
      "text/plain": [
       "<Figure size 432x288 with 1 Axes>"
      ]
     },
     "metadata": {
      "needs_background": "light"
     },
     "output_type": "display_data"
    }
   ],
   "source": [
    "plt.plot(np.arange(STEP), g_AVERAGE_REWARDS, 'g-', np.arange(STEP), e01_AVERAGE_REWARDS,'b-', np.arange(STEP), e001_AVERAGE_REWARDS,'r-')\n",
    "plt.legend([\"e=0(greed)\", \"e=0.1\", \"e=0.01\"])\n",
    "save_fig(\"simple_vandit_average_reward\")\n",
    "plt.show()"
   ]
  },
  {
   "cell_type": "code",
   "execution_count": 9,
   "metadata": {},
   "outputs": [
    {
     "data": {
      "image/png": "[encoded data removed]",
      "text/plain": [
       "<Figure size 432x288 with 1 Axes>"
      ]
     },
     "metadata": {
      "needs_background": "light"
     },
     "output_type": "display_data"
    }
   ],
   "source": [
    "plt.plot(np.arange(STEP), g_OPTIMAL_ACTIONS, 'g-', np.arange(STEP), e01_OPTIMAL_ACTIONS,'b-', np.arange(STEP), e001_OPTIMAL_ACTIONS,'r-')\n",
    "plt.legend([\"e=0(greed)\", \"e=0.1\", \"e=0.01\"])\n",
    "save_fig(\"simple_vandit_%Optimal_action\")\n",
    "plt.show()"
   ]
  }
 ],
 "metadata": {
  "kernelspec": {
   "display_name": "Python 3",
   "language": "python",
   "name": "python3"
  },
  "language_info": {
   "codemirror_mode": {
    "name": "ipython",
    "version": 3
   },
   "file_extension": ".py",
   "mimetype": "text/x-python",
   "name": "python",
   "nbconvert_exporter": "python",
   "pygments_lexer": "ipython3",
   "version": "3.6.6"
  }
 },
 "nbformat": 4,
 "nbformat_minor": 2
}
